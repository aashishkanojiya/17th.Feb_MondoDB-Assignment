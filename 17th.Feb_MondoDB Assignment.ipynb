{
  "metadata": {
    "kernelspec": {
      "name": "python",
      "display_name": "Python (Pyodide)",
      "language": "python"
    },
    "language_info": {
      "codemirror_mode": {
        "name": "python",
        "version": 3
      },
      "file_extension": ".py",
      "mimetype": "text/x-python",
      "name": "python",
      "nbconvert_exporter": "python",
      "pygments_lexer": "ipython3",
      "version": "3.8"
    }
  },
  "nbformat_minor": 4,
  "nbformat": 4,
  "cells": [
    {
      "cell_type": "markdown",
      "source": "Q1. What is MongoDB? Explain non-relational databases in short. In which scenarios it is preferred to use\nMongoDB over SQL databases?",
      "metadata": {}
    },
    {
      "cell_type": "markdown",
      "source": "Answer:-MongoDB is a popular open-source NoSQL database known for its flexibility and scalability. It stores data in a JSON-like format called BSON (Binary JSON), which allows for dynamic and flexible schema design. MongoDB is designed to handle a large volume of unstructured data and is widely used for its high performance and ease of scalability.\n\nNon-Relational Databases (NoSQL Databases)\nNon-relational databases are designed to store and manage unstructured or semi-structured data. Unlike SQL databases, they don’t rely on a fixed schema, making them ideal for applications where data structure may change frequently. Non-relational databases are often used in distributed systems, where they support high availability, scalability, and quick access to large volumes of diverse data.\n\nScenarios to Prefer MongoDB Over SQL Databases:\n1.Dynamic Schema Requirements\nWhen the data structure is evolving and may vary between records, MongoDB’s schema flexibility allows for adjustments without downtime.\n2.Unstructured Data:\nIf your data lacks a rigid structure or includes various formats (e.g., JSON, XML), MongoDB can handle this more efficiently than traditional SQL databases.\n3.High Volume of Data:\nMongoDB is well-suited for applications that need to process and store large amounts of data due to its high performance and ability to scale horizontally.\n4.Horizontal Scalability:\nMongoDB scales horizontally across multiple servers, which makes it ideal for handling large-scale applications where data and traffic grow significantly over time.\n5.Real-Time Analytics:\nFor use cases involving real-time analytics and data processing, MongoDB's performance characteristics can provide quick insights and results.\n6.Geospatial Data:\nMongoDB has strong support for geospatial queries, making it ideal for applications that involve location-based data and services.",
      "metadata": {}
    },
    {
      "cell_type": "markdown",
      "source": "Q2. State and Explain the features of MongoDB.",
      "metadata": {}
    },
    {
      "cell_type": "markdown",
      "source": "Answer:-The Feature of MongoDB\n1.Flexible Schema:\nAllows dynamic and flexible schema design, accommodating changes without major disruptions.\n2.Document-Oriented Storage:\nStores data in JSON-like BSON format, supporting complex data structures.\n3.Horizontal Scalability:\nScales out by distributing data across multiple servers through sharding.\n4.Indexing:\nSupports various index types to improve query performance.\n5.Replication:\nProvides high availability and data redundancy through replica sets.\n6.Aggregation Framework:\nOffers powerful tools for data processing and analysis.\n7.High Performance:\nOptimized for fast read and write operations, suitable for real-time applications.\n8.Geospatial Queries:\nBuilt-in support for location-based data and queries.\n9.Ad Hoc Queries:\nAllows flexible querying without predefined queries.\n10.Multiple Storage Engines:\nSupports different storage engines tailored to specific needs, like WiredTiger and In-Memory.\n\nThese features make MongoDB a versatile and powerful choice for managing large volumes of diverse data in modern applications.",
      "metadata": {}
    },
    {
      "cell_type": "markdown",
      "source": "Q3. Write a code to connect MongoDB to Python. Also, create a database and a collection in MongoDB.",
      "metadata": {}
    },
    {
      "cell_type": "markdown",
      "source": "Answer:-To connect MongoDB to Python, you can use the pymongo library. Here's a step-by-step guide\nStep 1.Install the PyMongo Library: Before using MongoDB in Python, install the pymongo package using pip:\npip install pymongo\nStep 2.Connect to MongoDB, Create a Database, and a Collection: Here’s the code to establish a connection, create a database, and a collection:\n\nfrom pymongo import MongoClient\n\n#a connection to MongoD\nclient = MongoClient(\"mongodb://localhost:270188/\")\n\n#Creating a database named \"mydatabase\"\ndb = client[\"mydatabase\"]\n\n#Creating a collection named \"customers\"\ncollection = db[\"customers\"]\n\n#Inserting a document into the \"customers\" collection\ncustomer = {\n    \"name\": \"John Doe\",\n    \"address\": \"123 Elm Street\"\n}\ncollection.insert_one(customer)\n\nprint(\"Database and collection created successfully!\")\n\nExplanation of code \nMongoClient: a connection to the MongoDB server. The connection string specifies the server address (localhost) and the port (270188).\nDatabase Creation: client[\"mydatabase\"] creates a new database named \"mydatabase\". If the database already exists, it connects to it.\nCollection Creation: db[\"customers\"] creates a new collection named \"customers\". If the collection already exists, it connects to it.\nInserting a Document: collection.insert_one(customer) inserts a single document into the \"customers\" collection.\n",
      "metadata": {}
    },
    {
      "cell_type": "markdown",
      "source": "Q4. Using the database and the collection created in question number 3, write a code to insert one record,\nand insert many records. Use the find() and find_one() methods to print the inserted record.",
      "metadata": {}
    },
    {
      "cell_type": "markdown",
      "source": "Answer:-Here's how you can insert one record and many records into the \"customers\" collection, and then use the find() and find_one() methods to print the inserted records:\n\nCode to Insert One Record and Many Records, and Retrieve Them:-\n\nfrom pymongo import MongoClient\n\n#Establishing a connection to MongoDB\n\nclient = MongoClient(\"mongodb://localhost:27017/\")\n\n#Creating a database named \"mydatabase\"\n\ndb = client[\"mydatabase\"]\n\n#Creating a collection named \"customers\"\n\ncollection = db[\"customers\"]\n\n#Inserting one record\n\none_customer = {\n    \"name\": \"Alice Smith\",\n    \"address\": \"456 Oak Street\"\n}\ninserted_one = collection.insert_one(one_customer)\nprint(f\"Inserted one record ID: {inserted_one.inserted_id}\")\n\n#Inserting multiple records\n\nmany_customers =[\n    {\"name\": \"Bob Johnson\", \"address\": \"789 Pine Street\"},\n    {\"name\": \"Carol White\", \"address\": \"321 Maple Street\"},\n    {\"name\": \"David Brown\", \"address\": \"654 Cedar Street\")\n]\ninserted_many = collection.insert_many(many_customers)\nprint(f\"Inserted multiple records IDs: {inserted_many.inserted_ids}\")\n\n#Using find_one() to print one inserted record\n\nresult_one = collection.find_one({\"name\": \"Alice Smith\"})\nprint(\"Find one record:\")\nprint(result_one)\n\n#Using find() to print all inserted records\n\nprint(\"Find all records:\")\nresults = collection.find()\nfor record in results:\n    print(record)\n\nExplanation:\n1.Insert One Record:\nData: A dictionary representing a single customer.\nMethod: collection.insert_one(one_customer)\nOutput: Prints the inserted ID of the record.\n\n2.Insert Many Records:\nData: A list of dictionaries, each representing a customer.\nMethod: collection.insert_many(many_customers)\nOutput: Prints the inserted IDs of the records.\n\n3.Retrieve and Print One Record:\nMethod: collection.find_one({\"name\": \"Alice Smith\"})\nOutput: Prints the document where the name matches \"Alice Smith\".\n\n4.Retrieve and Print All Records:\nMethod: collection.find()\nOutput: Iterates through and prints all documents in the \"customers\" collection.    \n\nThis code shows how to perform basic CRUD (Create, Read, Update, Delete) operations in MongoDB using Python and the pymongo library.",
      "metadata": {}
    },
    {
      "cell_type": "markdown",
      "source": "Q5. Explain how you can use the find() method to query the MongoDB database. Write a simple code to\ndemonstrate this.",
      "metadata": {}
    },
    {
      "cell_type": "markdown",
      "source": "Answer:-Using the find() Method in MongoDB\nThe find() method in MongoDB is used to query documents from a collection. It retrieves documents that match a specified filter and returns a cursor to the result set, which can then be iterated over to access the documents. The find() method is very flexible and can be used with various query operators to filter data based on specific criteria.\n\nHere's a simple code example to demonstrate how to use the find() method:\n\nfrom pymongo import MongoClient\n\n#Establish connection to MongoDB\nclient = MongoClient(\"mongodb://localhost:27017/\")\n\n#Access the database and collection\ndb = client[\"mydatabase\"]\ncollection = db[\"customers\"]\n\n#Query to find documents where the name is \"Alice\"\nquery = {\"name\": \"Alice\"}\nresults = collection.find(query)\n\n#Print the query results\nfor document in results:\n    print(document)\n\n#Query to find all documents in the collection\nall_results = collection.find()\n\n#Print all documents\nfor document in all_results:\n    print(document)\n\n1.find(filter): Retrieves documents that match the filter criteria.\n2.Iterate Over Results: Use a loop to access and print each document from the result set.\n\nThis demonstrates the basic use of the find() method to query a MongoDB collection and retrieve documents.",
      "metadata": {}
    },
    {
      "cell_type": "markdown",
      "source": "Q6. Explain the sort() method. Give an example to demonstrate sorting in MongoDB.",
      "metadata": {}
    },
    {
      "cell_type": "markdown",
      "source": "Answer:-sort() Method in MongoDB\nThe sort() method in MongoDB is used to sort the documents in the result set of a query. You can sort the documents in either ascending or descending order based on the values of one or more fields.\n\nBasic Usage: collection.find().sort(\"field_name\", direction)\n1.field_name: The name of the field by which to sort the documents.\n2.direction: The direction of the sort, where 1 indicates ascending order and -1 indicates descending order.\n\nHere's a simple example to demonstrate sorting in MongoDB using the pymongo library:\n\nfrom pymongo import MongoClient\n\n#Establish connection to MongoDB\nclient = MongoClient(\"mongodb://localhost:27017/\")\n\n#Access the database and collection\ndb = client[\"mydatabase\"]\ncollection = db[\"customers\"]\n\n#Sorting documents by name in ascending order\nsorted_asc = collection.find().sort(\"name\", 1)\nprint(\"Documents sorted by name in ascending order:\")\nfor document in sorted_asc:\n    print(document)\n\n#Sorting documents by name in descending order\nsorted_desc = collection.find().sort(\"name\", -1)\nprint(\"\\nDocuments sorted by name in descending order:\")\nfor document in sorted_desc:\n    print(document)\n\nAscending Order: Use 1 as the direction.\nDescending Order: Use -1 as the direction.\n\nThis illustrates how to sort query results in MongoDB effectively\n",
      "metadata": {}
    },
    {
      "cell_type": "markdown",
      "source": "Q7. Explain why delete_one(), delete_many(), and drop() is used.",
      "metadata": {}
    },
    {
      "cell_type": "markdown",
      "source": "Answer:-delete_one(), delete_many(), and drop() in MongoDB:-\nThese methods are used to remove documents or entire collections from a MongoDB database. Each serves a different purpose depending on the scope of the deletion needed.\n\n1.delete_one():\nDeletes a single document that matches the specified filter criteria.\nUseful when you want to remove just one instance of a document from the collection.\nExample:-\nresult = collection.delete_one({\"name\": \"Alice\"})\nprint(f\"Deleted {result.deleted_count} document.\")\n\n2.delete_many():\nDeletes multiple documents that match the specified filter criteria.\nUsed when you need to remove all documents that match a certain condition\nExample:-\nresult = collection.delete_many({\"address\": {\"$regex\": \"^456\"}})\nprint(f\"Deleted {result.deleted_count} documents.\")\n\n3.drop():\nCompletely removes a collection from the database.\nEmployed when you need to delete an entire collection, including all its documents.\nExample:-\ncollection.drop()\nprint(\"Collection dropped.\")\n\ndelete_one(): Deletes a single document based on a filter.\ndelete_many(): Deletes multiple documents matching a filter.\ndrop(): Deletes the entire collection.\n\nThese methods provide flexibility in managing and maintaining your MongoDB database by allowing targeted deletions or complete removal of collections as needed.",
      "metadata": {}
    }
  ]
}